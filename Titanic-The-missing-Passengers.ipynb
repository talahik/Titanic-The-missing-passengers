{
 "cells": [
  {
   "cell_type": "markdown",
   "id": "621a844b",
   "metadata": {},
   "source": [
    "# Préparation des données"
   ]
  },
  {
   "cell_type": "markdown",
   "id": "6b6395d4",
   "metadata": {},
   "source": [
    "## Inspection"
   ]
  },
  {
   "cell_type": "code",
   "execution_count": 19,
   "id": "2b9874cb",
   "metadata": {},
   "outputs": [],
   "source": [
    "import pandas as pd"
   ]
  },
  {
   "cell_type": "code",
   "execution_count": 20,
   "id": "b25f4ef3",
   "metadata": {},
   "outputs": [],
   "source": [
    "#Lire dans un Dataframe nommé df les données contenues dans le fichier \"known.csv\"\n",
    "df=pd.read_csv(\"known.csv\")"
   ]
  },
  {
   "cell_type": "code",
   "execution_count": 21,
   "id": "c033897c",
   "metadata": {},
   "outputs": [
    {
     "data": {
      "text/html": [
       "<div>\n",
       "<style scoped>\n",
       "    .dataframe tbody tr th:only-of-type {\n",
       "        vertical-align: middle;\n",
       "    }\n",
       "\n",
       "    .dataframe tbody tr th {\n",
       "        vertical-align: top;\n",
       "    }\n",
       "\n",
       "    .dataframe thead th {\n",
       "        text-align: right;\n",
       "    }\n",
       "</style>\n",
       "<table border=\"1\" class=\"dataframe\">\n",
       "  <thead>\n",
       "    <tr style=\"text-align: right;\">\n",
       "      <th></th>\n",
       "      <th>PassengerId</th>\n",
       "      <th>HomePlanet</th>\n",
       "      <th>CryoSleep</th>\n",
       "      <th>Cabin</th>\n",
       "      <th>Destination</th>\n",
       "      <th>Age</th>\n",
       "      <th>VIP</th>\n",
       "      <th>RoomService</th>\n",
       "      <th>FoodCourt</th>\n",
       "      <th>ShoppingMall</th>\n",
       "      <th>Spa</th>\n",
       "      <th>VRDeck</th>\n",
       "      <th>Name</th>\n",
       "      <th>Transported</th>\n",
       "    </tr>\n",
       "  </thead>\n",
       "  <tbody>\n",
       "    <tr>\n",
       "      <th>0</th>\n",
       "      <td>0001_01</td>\n",
       "      <td>Europa</td>\n",
       "      <td>False</td>\n",
       "      <td>B/0/P</td>\n",
       "      <td>TRAPPIST-1e</td>\n",
       "      <td>39.0</td>\n",
       "      <td>False</td>\n",
       "      <td>0.0</td>\n",
       "      <td>0.0</td>\n",
       "      <td>0.0</td>\n",
       "      <td>0.0</td>\n",
       "      <td>0.0</td>\n",
       "      <td>Maham Ofracculy</td>\n",
       "      <td>False</td>\n",
       "    </tr>\n",
       "    <tr>\n",
       "      <th>1</th>\n",
       "      <td>0002_01</td>\n",
       "      <td>Earth</td>\n",
       "      <td>False</td>\n",
       "      <td>F/0/S</td>\n",
       "      <td>TRAPPIST-1e</td>\n",
       "      <td>24.0</td>\n",
       "      <td>False</td>\n",
       "      <td>109.0</td>\n",
       "      <td>9.0</td>\n",
       "      <td>25.0</td>\n",
       "      <td>549.0</td>\n",
       "      <td>44.0</td>\n",
       "      <td>Juanna Vines</td>\n",
       "      <td>True</td>\n",
       "    </tr>\n",
       "    <tr>\n",
       "      <th>2</th>\n",
       "      <td>0003_01</td>\n",
       "      <td>Europa</td>\n",
       "      <td>False</td>\n",
       "      <td>A/0/S</td>\n",
       "      <td>TRAPPIST-1e</td>\n",
       "      <td>58.0</td>\n",
       "      <td>True</td>\n",
       "      <td>43.0</td>\n",
       "      <td>3576.0</td>\n",
       "      <td>0.0</td>\n",
       "      <td>6715.0</td>\n",
       "      <td>49.0</td>\n",
       "      <td>Altark Susent</td>\n",
       "      <td>False</td>\n",
       "    </tr>\n",
       "    <tr>\n",
       "      <th>3</th>\n",
       "      <td>0003_02</td>\n",
       "      <td>Europa</td>\n",
       "      <td>False</td>\n",
       "      <td>A/0/S</td>\n",
       "      <td>TRAPPIST-1e</td>\n",
       "      <td>33.0</td>\n",
       "      <td>False</td>\n",
       "      <td>0.0</td>\n",
       "      <td>1283.0</td>\n",
       "      <td>371.0</td>\n",
       "      <td>3329.0</td>\n",
       "      <td>193.0</td>\n",
       "      <td>Solam Susent</td>\n",
       "      <td>False</td>\n",
       "    </tr>\n",
       "    <tr>\n",
       "      <th>4</th>\n",
       "      <td>0004_01</td>\n",
       "      <td>Earth</td>\n",
       "      <td>False</td>\n",
       "      <td>F/1/S</td>\n",
       "      <td>TRAPPIST-1e</td>\n",
       "      <td>16.0</td>\n",
       "      <td>False</td>\n",
       "      <td>303.0</td>\n",
       "      <td>70.0</td>\n",
       "      <td>151.0</td>\n",
       "      <td>565.0</td>\n",
       "      <td>2.0</td>\n",
       "      <td>Willy Santantines</td>\n",
       "      <td>True</td>\n",
       "    </tr>\n",
       "  </tbody>\n",
       "</table>\n",
       "</div>"
      ],
      "text/plain": [
       "  PassengerId HomePlanet CryoSleep  Cabin  Destination   Age    VIP  \\\n",
       "0     0001_01     Europa     False  B/0/P  TRAPPIST-1e  39.0  False   \n",
       "1     0002_01      Earth     False  F/0/S  TRAPPIST-1e  24.0  False   \n",
       "2     0003_01     Europa     False  A/0/S  TRAPPIST-1e  58.0   True   \n",
       "3     0003_02     Europa     False  A/0/S  TRAPPIST-1e  33.0  False   \n",
       "4     0004_01      Earth     False  F/1/S  TRAPPIST-1e  16.0  False   \n",
       "\n",
       "   RoomService  FoodCourt  ShoppingMall     Spa  VRDeck               Name  \\\n",
       "0          0.0        0.0           0.0     0.0     0.0    Maham Ofracculy   \n",
       "1        109.0        9.0          25.0   549.0    44.0       Juanna Vines   \n",
       "2         43.0     3576.0           0.0  6715.0    49.0      Altark Susent   \n",
       "3          0.0     1283.0         371.0  3329.0   193.0       Solam Susent   \n",
       "4        303.0       70.0         151.0   565.0     2.0  Willy Santantines   \n",
       "\n",
       "   Transported  \n",
       "0        False  \n",
       "1         True  \n",
       "2        False  \n",
       "3        False  \n",
       "4         True  "
      ]
     },
     "execution_count": 21,
     "metadata": {},
     "output_type": "execute_result"
    }
   ],
   "source": [
    "#Affichage d'un Aperçu de df\n",
    "df.head()"
   ]
  },
  {
   "cell_type": "code",
   "execution_count": 22,
   "id": "b04499a9",
   "metadata": {},
   "outputs": [
    {
     "name": "stdout",
     "output_type": "stream",
     "text": [
      "Quantité de doublons: 0\n"
     ]
    }
   ],
   "source": [
    "#Verifier si il ya des doublons\n",
    "print(\"Quantité de doublons:\", df.duplicated().sum())"
   ]
  },
  {
   "cell_type": "code",
   "execution_count": 23,
   "id": "87fd2280",
   "metadata": {},
   "outputs": [
    {
     "name": "stdout",
     "output_type": "stream",
     "text": [
      "PassengerId     0.000000\n",
      "HomePlanet      2.312205\n",
      "CryoSleep       2.496261\n",
      "Cabin           2.289198\n",
      "Destination     2.093639\n",
      "Age             2.059128\n",
      "VIP             2.335212\n",
      "RoomService     2.082135\n",
      "FoodCourt       2.105142\n",
      "ShoppingMall    2.392730\n",
      "Spa             2.105142\n",
      "VRDeck          2.162660\n",
      "Name            2.300702\n",
      "Transported     0.000000\n",
      "dtype: float64\n"
     ]
    }
   ],
   "source": [
    "#Déterminer le taux de valeurs manquantes pour chaque colonne\n",
    "print(df.isna().mean()*100)"
   ]
  },
  {
   "cell_type": "raw",
   "id": "55ba0268",
   "metadata": {},
   "source": [
    "Chaque colonne a un taux de NANs d'environ 2%."
   ]
  },
  {
   "cell_type": "code",
   "execution_count": 24,
   "id": "909088c7",
   "metadata": {},
   "outputs": [
    {
     "name": "stdout",
     "output_type": "stream",
     "text": [
      "Le nombre de valeurs uniques par colonne:\n",
      "\n",
      "PassengerId     8693\n",
      "HomePlanet         3\n",
      "CryoSleep          2\n",
      "Cabin           6560\n",
      "Destination        3\n",
      "Age               80\n",
      "VIP                2\n",
      "RoomService     1273\n",
      "FoodCourt       1507\n",
      "ShoppingMall    1115\n",
      "Spa             1327\n",
      "VRDeck          1306\n",
      "Name            8473\n",
      "Transported        2\n",
      "dtype: int64\n"
     ]
    }
   ],
   "source": [
    "#Afficher le nombre de modalités prises par chaque variable explicative\n",
    "print(\"Le nombre de valeurs uniques par colonne:\\n\")\n",
    "print(df.nunique())"
   ]
  },
  {
   "cell_type": "raw",
   "id": "01dc6d00",
   "metadata": {},
   "source": [
    "Pour modeliser le problème a l'aide de scikit-learn il faut que:\n",
    "- toutes les variables explicatives contiennent des valeurs manquantes. Nous allons devoir les remplir afin de ne pas perdre une grande partie du jeu de données.\n",
    "- Certaines colonnes sont sous format texte pour représenter une catégorie. il va falloir les encoder numériquement.\n",
    "- Certaines colonnes non-numériques contiennent trop de modalités pour être encodées numériquement on peut soit les supprimer soit extraire de ces valeurs des informations pertinentes pour la modélisation."
   ]
  },
  {
   "cell_type": "markdown",
   "id": "14246824",
   "metadata": {},
   "source": [
    "## Feature Selection"
   ]
  },
  {
   "cell_type": "raw",
   "id": "84c338fb",
   "metadata": {},
   "source": [
    "De nombreuses variables ne sont pas exploitables dans l'état. Nous décidons dans le cadre de l'examen de les supprimer."
   ]
  },
  {
   "cell_type": "code",
   "execution_count": 25,
   "id": "46dc6f8e",
   "metadata": {},
   "outputs": [],
   "source": [
    "#Supprimer \"Name\",\"PassengerId\" et \"Cabin\"\n",
    "df.drop([\"Name\", \"PassengerId\", \"Cabin\"], axis=1, inplace=True)"
   ]
  },
  {
   "cell_type": "code",
   "execution_count": 26,
   "id": "2a0ac602",
   "metadata": {},
   "outputs": [
    {
     "data": {
      "text/html": [
       "<div>\n",
       "<style scoped>\n",
       "    .dataframe tbody tr th:only-of-type {\n",
       "        vertical-align: middle;\n",
       "    }\n",
       "\n",
       "    .dataframe tbody tr th {\n",
       "        vertical-align: top;\n",
       "    }\n",
       "\n",
       "    .dataframe thead th {\n",
       "        text-align: right;\n",
       "    }\n",
       "</style>\n",
       "<table border=\"1\" class=\"dataframe\">\n",
       "  <thead>\n",
       "    <tr style=\"text-align: right;\">\n",
       "      <th></th>\n",
       "      <th>HomePlanet</th>\n",
       "      <th>CryoSleep</th>\n",
       "      <th>Destination</th>\n",
       "      <th>Age</th>\n",
       "      <th>VIP</th>\n",
       "      <th>RoomService</th>\n",
       "      <th>FoodCourt</th>\n",
       "      <th>ShoppingMall</th>\n",
       "      <th>Spa</th>\n",
       "      <th>VRDeck</th>\n",
       "      <th>Transported</th>\n",
       "    </tr>\n",
       "  </thead>\n",
       "  <tbody>\n",
       "    <tr>\n",
       "      <th>0</th>\n",
       "      <td>Europa</td>\n",
       "      <td>False</td>\n",
       "      <td>TRAPPIST-1e</td>\n",
       "      <td>39.0</td>\n",
       "      <td>False</td>\n",
       "      <td>0.0</td>\n",
       "      <td>0.0</td>\n",
       "      <td>0.0</td>\n",
       "      <td>0.0</td>\n",
       "      <td>0.0</td>\n",
       "      <td>False</td>\n",
       "    </tr>\n",
       "    <tr>\n",
       "      <th>1</th>\n",
       "      <td>Earth</td>\n",
       "      <td>False</td>\n",
       "      <td>TRAPPIST-1e</td>\n",
       "      <td>24.0</td>\n",
       "      <td>False</td>\n",
       "      <td>109.0</td>\n",
       "      <td>9.0</td>\n",
       "      <td>25.0</td>\n",
       "      <td>549.0</td>\n",
       "      <td>44.0</td>\n",
       "      <td>True</td>\n",
       "    </tr>\n",
       "    <tr>\n",
       "      <th>2</th>\n",
       "      <td>Europa</td>\n",
       "      <td>False</td>\n",
       "      <td>TRAPPIST-1e</td>\n",
       "      <td>58.0</td>\n",
       "      <td>True</td>\n",
       "      <td>43.0</td>\n",
       "      <td>3576.0</td>\n",
       "      <td>0.0</td>\n",
       "      <td>6715.0</td>\n",
       "      <td>49.0</td>\n",
       "      <td>False</td>\n",
       "    </tr>\n",
       "    <tr>\n",
       "      <th>3</th>\n",
       "      <td>Europa</td>\n",
       "      <td>False</td>\n",
       "      <td>TRAPPIST-1e</td>\n",
       "      <td>33.0</td>\n",
       "      <td>False</td>\n",
       "      <td>0.0</td>\n",
       "      <td>1283.0</td>\n",
       "      <td>371.0</td>\n",
       "      <td>3329.0</td>\n",
       "      <td>193.0</td>\n",
       "      <td>False</td>\n",
       "    </tr>\n",
       "    <tr>\n",
       "      <th>4</th>\n",
       "      <td>Earth</td>\n",
       "      <td>False</td>\n",
       "      <td>TRAPPIST-1e</td>\n",
       "      <td>16.0</td>\n",
       "      <td>False</td>\n",
       "      <td>303.0</td>\n",
       "      <td>70.0</td>\n",
       "      <td>151.0</td>\n",
       "      <td>565.0</td>\n",
       "      <td>2.0</td>\n",
       "      <td>True</td>\n",
       "    </tr>\n",
       "  </tbody>\n",
       "</table>\n",
       "</div>"
      ],
      "text/plain": [
       "  HomePlanet CryoSleep  Destination   Age    VIP  RoomService  FoodCourt  \\\n",
       "0     Europa     False  TRAPPIST-1e  39.0  False          0.0        0.0   \n",
       "1      Earth     False  TRAPPIST-1e  24.0  False        109.0        9.0   \n",
       "2     Europa     False  TRAPPIST-1e  58.0   True         43.0     3576.0   \n",
       "3     Europa     False  TRAPPIST-1e  33.0  False          0.0     1283.0   \n",
       "4      Earth     False  TRAPPIST-1e  16.0  False        303.0       70.0   \n",
       "\n",
       "   ShoppingMall     Spa  VRDeck  Transported  \n",
       "0           0.0     0.0     0.0        False  \n",
       "1          25.0   549.0    44.0         True  \n",
       "2           0.0  6715.0    49.0        False  \n",
       "3         371.0  3329.0   193.0        False  \n",
       "4         151.0   565.0     2.0         True  "
      ]
     },
     "execution_count": 26,
     "metadata": {},
     "output_type": "execute_result"
    }
   ],
   "source": [
    "df.head()"
   ]
  },
  {
   "cell_type": "markdown",
   "id": "4ce2ba00",
   "metadata": {},
   "source": [
    "## Gestion des valeurs manquantes"
   ]
  },
  {
   "cell_type": "code",
   "execution_count": 27,
   "id": "24254485",
   "metadata": {},
   "outputs": [],
   "source": [
    "#Séparer la variable cible des variables explicatives\n",
    "from sklearn.model_selection import train_test_split\n",
    "X= df.drop(\"Transported\",axis=1)\n",
    "y= df[\"Transported\"]\n",
    "\n",
    "#Séparer le jeu de données en jeu d'entrainement et un jeu de test\n",
    "X_train, X_test, y_train, y_test = train_test_split(X, y, test_size= 0.2, random_state=42)\n"
   ]
  },
  {
   "cell_type": "code",
   "execution_count": 28,
   "id": "121fb7b4",
   "metadata": {},
   "outputs": [],
   "source": [
    "#Séparer les colonnes numériques et les colonnes catégorielles pour le jeu d’entraînement et le jeu de test\n",
    "cat_cols = [\"HomePlanet\", \"CryoSleep\", \"Destination\", \"VIP\"]\n",
    "num_cols = [\"Age\", \"RoomService\", \"FoodCourt\", \"ShoppingMall\", \"Spa\", \"VRDeck\"]\n",
    "#Stocker les colonnes numériques dans num_train et num_test et les colonnes catégorielles dans cat_train et cat_test\n",
    "cat_train, cat_test = X_train[cat_cols], X_test[cat_cols]\n",
    "num_train, num_test = X_train[num_cols], X_test[num_cols]"
   ]
  },
  {
   "cell_type": "code",
   "execution_count": 29,
   "id": "9d62fcc7",
   "metadata": {},
   "outputs": [],
   "source": [
    "#Remplir les valeurs manquantes en utilisant \"median\" pour les variables numériques et \"most_frequent\" pour les catégorielles \n",
    "from sklearn.impute import SimpleImputer\n",
    "\n",
    "cat_imputer = SimpleImputer(strategy=\"most_frequent\")\n",
    "num_imputer = SimpleImputer(strategy=\"median\")\n",
    "\n",
    "num_train = num_imputer.fit_transform(num_train)\n",
    "num_test = num_imputer.transform(num_test)\n",
    "\n",
    "cat_train = cat_imputer.fit_transform(cat_train)\n",
    "cat_test = cat_imputer.transform(cat_test)\n"
   ]
  },
  {
   "cell_type": "markdown",
   "id": "946eee24",
   "metadata": {},
   "source": [
    "## Encodage des variables catégorielles"
   ]
  },
  {
   "cell_type": "code",
   "execution_count": 30,
   "id": "1caabd31",
   "metadata": {},
   "outputs": [
    {
     "name": "stdout",
     "output_type": "stream",
     "text": [
      "Dimensions du jeu d’entraînement: (6954, 12)\n",
      "Dimensions du jeu de test: (1739, 12)\n"
     ]
    },
    {
     "name": "stderr",
     "output_type": "stream",
     "text": [
      "/opt/anaconda3/lib/python3.11/site-packages/sklearn/preprocessing/_encoders.py:868: FutureWarning: `sparse` was renamed to `sparse_output` in version 1.2 and will be removed in 1.4. `sparse_output` is ignored unless you leave `sparse` to its default value.\n",
      "  warnings.warn(\n"
     ]
    }
   ],
   "source": [
    "#Encodage des variables categorielles avec OneHotEncoder\n",
    "from sklearn.preprocessing import OneHotEncoder\n",
    "import numpy as np\n",
    "\n",
    "ohe = OneHotEncoder(sparse=False, drop=\"first\")\n",
    "\n",
    "cat_train = ohe.fit_transform(cat_train)\n",
    "cat_test = ohe.transform(cat_test)\n",
    "\n",
    "#Reconstituer les jeux d'entrainement et de test \n",
    "X_train = np.concatenate([num_train, cat_train], axis=1)\n",
    "X_test = np.concatenate([num_test, cat_test], axis=1)\n",
    "\n",
    "#Affichage des dimentions des jeux reconstitués\n",
    "\n",
    "print(\"Dimensions du jeu d’entraînement:\", X_train.shape)\n",
    "print(\"Dimensions du jeu de test:\", X_test.shape)"
   ]
  },
  {
   "cell_type": "markdown",
   "id": "40e8b435",
   "metadata": {},
   "source": [
    "# Modélisation"
   ]
  },
  {
   "cell_type": "markdown",
   "id": "b95cc71d",
   "metadata": {},
   "source": [
    "## Entraînement "
   ]
  },
  {
   "cell_type": "code",
   "execution_count": 31,
   "id": "e96683b9",
   "metadata": {},
   "outputs": [
    {
     "data": {
      "text/html": [
       "<style>#sk-container-id-1 {color: black;background-color: white;}#sk-container-id-1 pre{padding: 0;}#sk-container-id-1 div.sk-toggleable {background-color: white;}#sk-container-id-1 label.sk-toggleable__label {cursor: pointer;display: block;width: 100%;margin-bottom: 0;padding: 0.3em;box-sizing: border-box;text-align: center;}#sk-container-id-1 label.sk-toggleable__label-arrow:before {content: \"▸\";float: left;margin-right: 0.25em;color: #696969;}#sk-container-id-1 label.sk-toggleable__label-arrow:hover:before {color: black;}#sk-container-id-1 div.sk-estimator:hover label.sk-toggleable__label-arrow:before {color: black;}#sk-container-id-1 div.sk-toggleable__content {max-height: 0;max-width: 0;overflow: hidden;text-align: left;background-color: #f0f8ff;}#sk-container-id-1 div.sk-toggleable__content pre {margin: 0.2em;color: black;border-radius: 0.25em;background-color: #f0f8ff;}#sk-container-id-1 input.sk-toggleable__control:checked~div.sk-toggleable__content {max-height: 200px;max-width: 100%;overflow: auto;}#sk-container-id-1 input.sk-toggleable__control:checked~label.sk-toggleable__label-arrow:before {content: \"▾\";}#sk-container-id-1 div.sk-estimator input.sk-toggleable__control:checked~label.sk-toggleable__label {background-color: #d4ebff;}#sk-container-id-1 div.sk-label input.sk-toggleable__control:checked~label.sk-toggleable__label {background-color: #d4ebff;}#sk-container-id-1 input.sk-hidden--visually {border: 0;clip: rect(1px 1px 1px 1px);clip: rect(1px, 1px, 1px, 1px);height: 1px;margin: -1px;overflow: hidden;padding: 0;position: absolute;width: 1px;}#sk-container-id-1 div.sk-estimator {font-family: monospace;background-color: #f0f8ff;border: 1px dotted black;border-radius: 0.25em;box-sizing: border-box;margin-bottom: 0.5em;}#sk-container-id-1 div.sk-estimator:hover {background-color: #d4ebff;}#sk-container-id-1 div.sk-parallel-item::after {content: \"\";width: 100%;border-bottom: 1px solid gray;flex-grow: 1;}#sk-container-id-1 div.sk-label:hover label.sk-toggleable__label {background-color: #d4ebff;}#sk-container-id-1 div.sk-serial::before {content: \"\";position: absolute;border-left: 1px solid gray;box-sizing: border-box;top: 0;bottom: 0;left: 50%;z-index: 0;}#sk-container-id-1 div.sk-serial {display: flex;flex-direction: column;align-items: center;background-color: white;padding-right: 0.2em;padding-left: 0.2em;position: relative;}#sk-container-id-1 div.sk-item {position: relative;z-index: 1;}#sk-container-id-1 div.sk-parallel {display: flex;align-items: stretch;justify-content: center;background-color: white;position: relative;}#sk-container-id-1 div.sk-item::before, #sk-container-id-1 div.sk-parallel-item::before {content: \"\";position: absolute;border-left: 1px solid gray;box-sizing: border-box;top: 0;bottom: 0;left: 50%;z-index: -1;}#sk-container-id-1 div.sk-parallel-item {display: flex;flex-direction: column;z-index: 1;position: relative;background-color: white;}#sk-container-id-1 div.sk-parallel-item:first-child::after {align-self: flex-end;width: 50%;}#sk-container-id-1 div.sk-parallel-item:last-child::after {align-self: flex-start;width: 50%;}#sk-container-id-1 div.sk-parallel-item:only-child::after {width: 0;}#sk-container-id-1 div.sk-dashed-wrapped {border: 1px dashed gray;margin: 0 0.4em 0.5em 0.4em;box-sizing: border-box;padding-bottom: 0.4em;background-color: white;}#sk-container-id-1 div.sk-label label {font-family: monospace;font-weight: bold;display: inline-block;line-height: 1.2em;}#sk-container-id-1 div.sk-label-container {text-align: center;}#sk-container-id-1 div.sk-container {/* jupyter's `normalize.less` sets `[hidden] { display: none; }` but bootstrap.min.css set `[hidden] { display: none !important; }` so we also need the `!important` here to be able to override the default hidden behavior on the sphinx rendered scikit-learn.org. See: https://github.com/scikit-learn/scikit-learn/issues/21755 */display: inline-block !important;position: relative;}#sk-container-id-1 div.sk-text-repr-fallback {display: none;}</style><div id=\"sk-container-id-1\" class=\"sk-top-container\"><div class=\"sk-text-repr-fallback\"><pre>DecisionTreeClassifier(random_state=42)</pre><b>In a Jupyter environment, please rerun this cell to show the HTML representation or trust the notebook. <br />On GitHub, the HTML representation is unable to render, please try loading this page with nbviewer.org.</b></div><div class=\"sk-container\" hidden><div class=\"sk-item\"><div class=\"sk-estimator sk-toggleable\"><input class=\"sk-toggleable__control sk-hidden--visually\" id=\"sk-estimator-id-1\" type=\"checkbox\" checked><label for=\"sk-estimator-id-1\" class=\"sk-toggleable__label sk-toggleable__label-arrow\">DecisionTreeClassifier</label><div class=\"sk-toggleable__content\"><pre>DecisionTreeClassifier(random_state=42)</pre></div></div></div></div></div>"
      ],
      "text/plain": [
       "DecisionTreeClassifier(random_state=42)"
      ]
     },
     "execution_count": 31,
     "metadata": {},
     "output_type": "execute_result"
    }
   ],
   "source": [
    "from sklearn.preprocessing import StandardScaler\n",
    "from sklearn.linear_model import LogisticRegression\n",
    "from sklearn.tree import DecisionTreeClassifier\n",
    "\n",
    "logreg = LogisticRegression()\n",
    "\n",
    "dt = DecisionTreeClassifier(random_state=42)\n",
    "\n",
    "# Le scaling des features est optionnel pour l'arbre de décision\n",
    "scaler = StandardScaler()\n",
    "\n",
    "num_train_scaled = scaler.fit_transform(num_train)\n",
    "num_test_scaled = scaler.transform(num_test)\n",
    "\n",
    "X_train_scaled = np.concatenate([num_train_scaled, cat_train], axis=1)\n",
    "X_test_scaled = np.concatenate([num_test_scaled, cat_test], axis=1)\n",
    "\n",
    "# Entraînement de la régression Logistique\n",
    "\n",
    "logreg.fit(X_train_scaled, y_train)\n",
    "\n",
    "# Entrainement de l'arbre de décision\n",
    "\n",
    "dt.fit(X_train, y_train)\n"
   ]
  },
  {
   "cell_type": "markdown",
   "id": "f12b01ab",
   "metadata": {},
   "source": [
    "## Évaluation de la performance "
   ]
  },
  {
   "cell_type": "raw",
   "id": "154f4e1c",
   "metadata": {},
   "source": [
    "Pour que le vaisseau de sauvetage puisse intervenir le plus vite possible, il doit être le plus petit possible. Nous voulons être sûrs que le vaisseau de sauvetage qui sera envoyé pourra héberger tous les passagers disparus sans pour autant être trop gros.\n",
    "\n",
    "On rappelle qu'ici un individu est \"positif\" s'il a été transporté vers une autre dimension.\n",
    "\n",
    "(1) Taux de vrais négatifs.\n",
    "(2) Taux de vrais positifs.\n",
    "(3) Taux de faux positifs.\n",
    "(4) Taux de faux négatifs."
   ]
  },
  {
   "cell_type": "raw",
   "id": "fef54634",
   "metadata": {},
   "source": [
    "La métrique qu'il faut minimiser est le taux de faux négatifs (4).\n",
    "En effet, si ce taux est trop élevé, cela veut dire que notre modèle sous-estime le nombre de passagers disparus\n",
    "car il en classifie trop comme non-disparus alors qu'ils ne le sont pas.\n",
    "Lorsque nous enverrons le vaisseau de sauvetage, il y aura trop de passagers à récupérer."
   ]
  },
  {
   "cell_type": "raw",
   "id": "6d9e9767",
   "metadata": {},
   "source": [
    "La métrique qu'il faut minimiser est le taux de faux positifs (3) .\n",
    "Si ce taux est trop élevé, cela veut dire que notre modèle classifie trop d'individus \n",
    "comme disparus alors qu'ils ne le sont pas."
   ]
  },
  {
   "cell_type": "raw",
   "id": "39593304",
   "metadata": {},
   "source": [
    "La métrique la plus adaptée est le f1-score car c'est un équilibre entre le rappel et la précision.\n",
    "Un rappel élevé nous permettra d'envoyer un vaisseau dont la taille sera suffisante pour accueillir tous les disparus.\n",
    "Une précision élevée nous permettra d'éviter que le modèle surestime le nombre de passagers à sauver.\n",
    "\n",
    "L'accuracy est aussi acceptable car notre jeu de données est équilibré et donc\n",
    "l'accuracy est une métrique pertinente à utiliser."
   ]
  },
  {
   "cell_type": "code",
   "execution_count": 33,
   "id": "664111ec",
   "metadata": {},
   "outputs": [
    {
     "name": "stdout",
     "output_type": "stream",
     "text": [
      "Score LogReg: 0.7840531561461793\n",
      "\n",
      "Score DecisionTree: 0.749727965179543\n"
     ]
    }
   ],
   "source": [
    "#Comparaison des modèles \n",
    "from sklearn.metrics import f1_score\n",
    "\n",
    "logreg_pred = logreg.predict(X_test_scaled)\n",
    "print(\"Score LogReg:\", f1_score(y_test, logreg_pred))\n",
    "\n",
    "dt_pred = dt.predict(X_test)\n",
    "print(\"\\nScore DecisionTree:\", f1_score(y_test, dt_pred))"
   ]
  },
  {
   "cell_type": "code",
   "execution_count": 34,
   "id": "332c80a9",
   "metadata": {},
   "outputs": [],
   "source": [
    "X, y = np.concatenate([X_train, X_test]), np.concatenate([y_train, y_test])\n",
    "\n",
    "# L'arbre de décision a montré les meilleurs résultats, mais cela peut varier\n",
    "dt.fit(X, y)\n",
    "\n",
    "# Chargement des nouvelles données\n",
    "pred_df = pd.read_csv(\"missing.csv\")\n",
    "\n",
    "# Feature Engineering\n",
    "\n",
    "pred_df = pred_df.drop([\"Name\", \"PassengerId\", \"Cabin\"], axis=1)\n",
    "\n",
    "# Gestion des valeurs manquantes et encodage\n",
    "cat_cols = [\"HomePlanet\", \"CryoSleep\", \"Destination\", \"VIP\"]\n",
    "num_cols = [\"Age\", \"RoomService\", \"FoodCourt\", \"ShoppingMall\", \"Spa\", \"VRDeck\"]\n",
    "\n",
    "cat, num = pred_df[cat_cols], pred_df[num_cols]\n",
    "\n",
    "cat = cat_imputer.transform(cat)\n",
    "num = num_imputer.transform(num)\n",
    "\n",
    "cat = ohe.transform(cat)\n",
    "pred_df = np.concatenate([num, cat], axis=1)\n",
    "\n",
    "# Prédiction sur les nouvelles données\n",
    "predictions = dt.predict(pred_df)\n"
   ]
  },
  {
   "cell_type": "code",
   "execution_count": 35,
   "id": "e7504431",
   "metadata": {},
   "outputs": [
    {
     "name": "stdout",
     "output_type": "stream",
     "text": [
      "D'après le modèle, il faudra aller sauver 6754 passagers.\n"
     ]
    }
   ],
   "source": [
    "print(\"D'après le modèle, il faudra aller sauver\",\n",
    "      predictions.sum() + y.sum(), \"passagers.\")\n"
   ]
  },
  {
   "cell_type": "markdown",
   "id": "0758bd79",
   "metadata": {},
   "source": [
    "## Résolution à l'aide d'une pipeline pour le modèle le plus performant."
   ]
  },
  {
   "cell_type": "code",
   "execution_count": 36,
   "id": "de93c129",
   "metadata": {},
   "outputs": [
    {
     "name": "stdout",
     "output_type": "stream",
     "text": [
      "D'après le modèle, il faudra aller sauver 6754 passagers.\n"
     ]
    },
    {
     "name": "stderr",
     "output_type": "stream",
     "text": [
      "/opt/anaconda3/lib/python3.11/site-packages/sklearn/preprocessing/_encoders.py:868: FutureWarning: `sparse` was renamed to `sparse_output` in version 1.2 and will be removed in 1.4. `sparse_output` is ignored unless you leave `sparse` to its default value.\n",
      "  warnings.warn(\n"
     ]
    }
   ],
   "source": [
    "# On importe à nouveau df\n",
    "from sklearn.pipeline import Pipeline\n",
    "from sklearn.compose import ColumnTransformer\n",
    "df = pd.read_csv(\"known.csv\")\n",
    "\n",
    "# On sépare les variables explicatives conservées (X) de la variable cible (y)\n",
    "X, y = df.drop([\"Name\", \"PassengerId\", \"Cabin\", \"Transported\"],\n",
    "               axis=1), df[\"Transported\"]\n",
    "\n",
    "# On définit les variables catégorielles et les variables numériques\n",
    "cat_cols = [\"HomePlanet\", \"CryoSleep\", \"Destination\", \"VIP\"]\n",
    "\n",
    "num_cols = [\"Age\", \"RoomService\", \"FoodCourt\", \"ShoppingMall\", \"Spa\", \"VRDeck\"]\n",
    "\n",
    "# On instancie les Transformers qui vont permettre d'imputer les NA\n",
    "cat_imputer = SimpleImputer(strategy=\"most_frequent\")\n",
    "\n",
    "num_imputer = SimpleImputer(strategy=\"median\")\n",
    "\n",
    "# On instancie le Transformer qui va permettre de créer des dummies à partir des catégories\n",
    "ohe = OneHotEncoder(sparse=False, drop=\"first\")\n",
    "\n",
    "# On importe les fonctions Pipeline et ColumnTransformer\n",
    "\n",
    "# On crée une pipeline pour transformer les variables catégorielles\n",
    "cat_transformers = Pipeline(steps=[('cat_imputer', cat_imputer), ('ohe', ohe)])\n",
    "\n",
    "# On définit quelles sont les transformations qui vont être appliquées aux différentes variables\n",
    "columns_transformation = ColumnTransformer(transformers=[(\n",
    "    \"cat\", cat_transformers, cat_cols), (\"num\", num_imputer, num_cols)], remainder=\"passthrough\")\n",
    "\n",
    "# On crée une pipeline qui rassemble les étapes de préparations et le modèle\n",
    "pipe = Pipeline(steps=[(\"col_transform\", columns_transformation), (\"dt\", dt)])\n",
    "\n",
    "# On entraîne la pipeline\n",
    "pipe.fit(X, y)\n",
    "\n",
    "# On importe les données sur lesquelles on effectuera la prédiction\n",
    "pred_df = pd.read_csv(\"missing.csv\")\n",
    "\n",
    "# On retire les variables que l'on n'a pas utilisé pour le modèle\n",
    "pred_df = pred_df.drop([\"Name\", \"PassengerId\", \"Cabin\"], axis=1)\n",
    "\n",
    "# On fait les prédictions à l'aide de la pipeline\n",
    "predictions_pipe = pipe.predict(pred_df)\n",
    "\n",
    "print(\"D'après le modèle, il faudra aller sauver\",\n",
    "      predictions_pipe.sum() + y.sum(), \"passagers.\")\n"
   ]
  },
  {
   "cell_type": "code",
   "execution_count": null,
   "id": "216a0257",
   "metadata": {},
   "outputs": [],
   "source": []
  }
 ],
 "metadata": {
  "kernelspec": {
   "display_name": "Python 3 (ipykernel)",
   "language": "python",
   "name": "python3"
  },
  "language_info": {
   "codemirror_mode": {
    "name": "ipython",
    "version": 3
   },
   "file_extension": ".py",
   "mimetype": "text/x-python",
   "name": "python",
   "nbconvert_exporter": "python",
   "pygments_lexer": "ipython3",
   "version": "3.11.7"
  }
 },
 "nbformat": 4,
 "nbformat_minor": 5
}
